{
 "cells": [
  {
   "cell_type": "markdown",
   "id": "f5165028",
   "metadata": {},
   "source": [
    "ASTR 4260 - Assignment 1 - Problem 1 || Alex Medina; am5542"
   ]
  },
  {
   "cell_type": "code",
   "execution_count": 1,
   "id": "a86fae56",
   "metadata": {},
   "outputs": [],
   "source": [
    "import numpy as np\n",
    "import math as m"
   ]
  },
  {
   "cell_type": "code",
   "execution_count": 17,
   "id": "6994c5ee",
   "metadata": {},
   "outputs": [
    {
     "name": "stdout",
     "output_type": "stream",
     "text": [
      "1\n",
      "1.5\n",
      "2.0\n",
      "2.5\n",
      "3.0\n",
      "3.5\n",
      "4.0\n",
      "4.5\n",
      "5.0\n",
      "5.5\n",
      "6.0\n",
      "6.5\n",
      "7.0\n",
      "7.5\n",
      "8.0\n",
      "8.5\n",
      "9.0\n",
      "9.5\n",
      "10.0\n"
     ]
    }
   ],
   "source": [
    "x=1\n",
    "while x <= 10.0:\n",
    "    print(x)\n",
    "    x=x+0.5"
   ]
  },
  {
   "cell_type": "code",
   "execution_count": 20,
   "id": "aa36b34e",
   "metadata": {},
   "outputs": [
    {
     "name": "stdout",
     "output_type": "stream",
     "text": [
      "0.0\n",
      "0.4054651081081644\n",
      "0.6931471805599453\n",
      "0.9162907318741551\n",
      "1.0986122886681098\n",
      "1.252762968495368\n",
      "1.3862943611198906\n",
      "1.5040773967762742\n",
      "1.6094379124341003\n",
      "1.7047480922384253\n",
      "1.791759469228055\n",
      "1.8718021769015913\n",
      "1.9459101490553132\n",
      "2.0149030205422647\n",
      "2.0794415416798357\n",
      "2.1400661634962708\n",
      "2.1972245773362196\n",
      "2.2512917986064953\n",
      "2.302585092994046\n"
     ]
    }
   ],
   "source": [
    "x=1\n",
    "while x <= 10.0:\n",
    "    print(m.log(x))\n",
    "    x=x+0.5"
   ]
  },
  {
   "cell_type": "code",
   "execution_count": null,
   "id": "63a54e01",
   "metadata": {},
   "outputs": [],
   "source": []
  }
 ],
 "metadata": {
  "kernelspec": {
   "display_name": "Python 3 (ipykernel)",
   "language": "python",
   "name": "python3"
  },
  "language_info": {
   "codemirror_mode": {
    "name": "ipython",
    "version": 3
   },
   "file_extension": ".py",
   "mimetype": "text/x-python",
   "name": "python",
   "nbconvert_exporter": "python",
   "pygments_lexer": "ipython3",
   "version": "3.9.7"
  }
 },
 "nbformat": 4,
 "nbformat_minor": 5
}
