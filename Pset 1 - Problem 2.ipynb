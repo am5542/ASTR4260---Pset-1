{
 "cells": [
  {
   "cell_type": "markdown",
   "id": "4303bdaa",
   "metadata": {},
   "source": [
    "ASTR 4260 - Assignment 1 - Problem 1 || Alex Medina; am5542"
   ]
  },
  {
   "cell_type": "code",
   "execution_count": 6,
   "id": "7c6e8651",
   "metadata": {},
   "outputs": [],
   "source": [
    "import numpy as np\n",
    "import math as m"
   ]
  },
  {
   "cell_type": "code",
   "execution_count": 7,
   "id": "f6b104c0",
   "metadata": {},
   "outputs": [],
   "source": [
    "def K0(p,z):\n",
    "    return m.acos((p**2 + z**2 -1)/(2*p*z))"
   ]
  },
  {
   "cell_type": "code",
   "execution_count": 8,
   "id": "f457a63d",
   "metadata": {},
   "outputs": [],
   "source": [
    "def K1(p,z):\n",
    "    return m.acos((1-p**2 + z**2)/(2*z))"
   ]
  },
  {
   "cell_type": "code",
   "execution_count": 16,
   "id": "07e0f943",
   "metadata": {},
   "outputs": [],
   "source": [
    "def lambdafunc(p,z):\n",
    "    if 1 + z < p:\n",
    "        return 0\n",
    "    if z <= 1-p:\n",
    "        return p**2\n",
    "    if z <= p-1:\n",
    "        return 1\n",
    "    if abs(1-p) < z and z <= 1+p:\n",
    "        return (1/m.pi)*(K0(p,z)*p**2 + K1(p,z) - m.sqrt((4*z**2 - (1 + z**2 - p**2)**2)/4))"
   ]
  },
  {
   "cell_type": "code",
   "execution_count": 19,
   "id": "8f3bb042",
   "metadata": {},
   "outputs": [],
   "source": [
    "def F(p,z):\n",
    "    return 1 - lambdafunc(p,abs(z))"
   ]
  },
  {
   "cell_type": "code",
   "execution_count": 20,
   "id": "2aa45bea",
   "metadata": {
    "scrolled": true
   },
   "outputs": [
    {
     "name": "stdout",
     "output_type": "stream",
     "text": [
      "1.0\n",
      "0.997335263983016\n",
      "0.9926934503699995\n",
      "0.987042673242156\n",
      "0.9808496779305925\n",
      "0.9745022090966324\n",
      "0.9684170049114547\n",
      "0.9631632627651049\n",
      "0.96\n",
      "0.96\n",
      "0.96\n",
      "0.96\n",
      "0.96\n",
      "0.96\n",
      "0.96\n",
      "0.96\n",
      "0.96\n",
      "0.96\n",
      "0.96\n",
      "0.96\n",
      "0.96\n",
      "0.96\n",
      "0.96\n",
      "0.96\n",
      "0.96\n",
      "0.96\n",
      "0.96\n",
      "0.96\n",
      "0.96\n",
      "0.96\n",
      "0.96\n",
      "0.96\n",
      "0.96\n",
      "0.96\n",
      "0.96\n",
      "0.96\n",
      "0.96\n",
      "0.96\n",
      "0.96\n",
      "0.96\n",
      "0.9600000013144705\n",
      "0.9631632627651051\n",
      "0.9684170049114548\n",
      "0.9745022090966324\n",
      "0.9808496779305926\n",
      "0.9870426732421562\n",
      "0.9926934503699996\n",
      "0.9973352639830161\n"
     ]
    }
   ],
   "source": [
    "p=0.2\n",
    "z=-1.2\n",
    "while z <= 1.2:\n",
    "    A = F(p,z)\n",
    "    print(A)\n",
    "    z=z+0.05"
   ]
  },
  {
   "cell_type": "code",
   "execution_count": null,
   "id": "cdd6852c",
   "metadata": {},
   "outputs": [],
   "source": []
  }
 ],
 "metadata": {
  "kernelspec": {
   "display_name": "Python 3 (ipykernel)",
   "language": "python",
   "name": "python3"
  },
  "language_info": {
   "codemirror_mode": {
    "name": "ipython",
    "version": 3
   },
   "file_extension": ".py",
   "mimetype": "text/x-python",
   "name": "python",
   "nbconvert_exporter": "python",
   "pygments_lexer": "ipython3",
   "version": "3.9.7"
  }
 },
 "nbformat": 4,
 "nbformat_minor": 5
}
